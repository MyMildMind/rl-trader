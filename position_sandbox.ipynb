{
 "cells": [
  {
   "cell_type": "markdown",
   "metadata": {},
   "source": [
    "# Position Bot"
   ]
  },
  {
   "cell_type": "markdown",
   "metadata": {},
   "source": [
    "## Import"
   ]
  },
  {
   "cell_type": "code",
   "execution_count": 1,
   "metadata": {},
   "outputs": [],
   "source": [
    "%reload_ext autoreload\n",
    "%autoreload 2\n",
    "%matplotlib inline\n",
    "\n",
    "import random\n",
    "import pandas as pd\n",
    "import numpy as np\n",
    "import matplotlib.pyplot as plt\n",
    "import seaborn as sns\n",
    "from tqdm import trange\n",
    "from collections import defaultdict, namedtuple, deque, Counter\n",
    "\n",
    "import warnings\n",
    "warnings.filterwarnings('ignore')\n",
    "\n",
    "#torch\n",
    "import torch\n",
    "import torch.nn as nn\n",
    "import torch.nn.functional as F\n",
    "from torch import optim\n",
    "device = torch.device(\"cuda:0\" if torch.cuda.is_available() else \"cpu\")\n",
    "\n",
    "DATA_PATH = 'data/'\n",
    "#raw data from #https://www.kaggle.com/mczielinski/bitcoin-historical-data/version/14\n",
    "RAW_PATH = f'{DATA_PATH}bitcoin-historical-data/'"
   ]
  },
  {
   "cell_type": "markdown",
   "metadata": {},
   "source": [
    "## Data Processing"
   ]
  },
  {
   "cell_type": "code",
   "execution_count": 2,
   "metadata": {},
   "outputs": [
    {
     "data": {
      "text/plain": [
       "(1000000, 6)"
      ]
     },
     "execution_count": 2,
     "metadata": {},
     "output_type": "execute_result"
    }
   ],
   "source": [
    "bitstamp_df = pd.read_csv(f'{RAW_PATH}bitstampUSD_1-min_data_2012-01-01_to_2018-06-27.csv')\n",
    "bitstamp_df.columns = ['timestamp','open','high','low','close','vol_btc','vol_usd','vwap']\n",
    "#select only columns we're interested\n",
    "bitstamp_df = bitstamp_df[['timestamp','open','high','low','close','vwap']]\n",
    "#select only portions of timestamps we're interested\n",
    "bitstamp_df = bitstamp_df.iloc[-1000000:,:]\n",
    "#for price reference\n",
    "bitstamp_original = bitstamp_df.copy()\n",
    "bitstamp_df.shape"
   ]
  },
  {
   "cell_type": "code",
   "execution_count": 3,
   "metadata": {},
   "outputs": [
    {
     "data": {
      "text/html": [
       "<div>\n",
       "<style scoped>\n",
       "    .dataframe tbody tr th:only-of-type {\n",
       "        vertical-align: middle;\n",
       "    }\n",
       "\n",
       "    .dataframe tbody tr th {\n",
       "        vertical-align: top;\n",
       "    }\n",
       "\n",
       "    .dataframe thead th {\n",
       "        text-align: right;\n",
       "    }\n",
       "</style>\n",
       "<table border=\"1\" class=\"dataframe\">\n",
       "  <thead>\n",
       "    <tr style=\"text-align: right;\">\n",
       "      <th></th>\n",
       "      <th>timestamp</th>\n",
       "      <th>open</th>\n",
       "      <th>high</th>\n",
       "      <th>low</th>\n",
       "      <th>close</th>\n",
       "      <th>vwap</th>\n",
       "    </tr>\n",
       "  </thead>\n",
       "  <tbody>\n",
       "    <tr>\n",
       "      <th>2405857</th>\n",
       "      <td>1470057660</td>\n",
       "      <td>623.11</td>\n",
       "      <td>623.13</td>\n",
       "      <td>623.11</td>\n",
       "      <td>623.13</td>\n",
       "      <td>623.122474</td>\n",
       "    </tr>\n",
       "    <tr>\n",
       "      <th>2405858</th>\n",
       "      <td>1470057720</td>\n",
       "      <td>623.00</td>\n",
       "      <td>623.00</td>\n",
       "      <td>623.00</td>\n",
       "      <td>623.00</td>\n",
       "      <td>623.000000</td>\n",
       "    </tr>\n",
       "    <tr>\n",
       "      <th>2405859</th>\n",
       "      <td>1470057780</td>\n",
       "      <td>623.13</td>\n",
       "      <td>623.13</td>\n",
       "      <td>623.13</td>\n",
       "      <td>623.13</td>\n",
       "      <td>623.130000</td>\n",
       "    </tr>\n",
       "    <tr>\n",
       "      <th>2405860</th>\n",
       "      <td>1470057840</td>\n",
       "      <td>622.67</td>\n",
       "      <td>623.13</td>\n",
       "      <td>622.67</td>\n",
       "      <td>623.13</td>\n",
       "      <td>623.010421</td>\n",
       "    </tr>\n",
       "    <tr>\n",
       "      <th>2405861</th>\n",
       "      <td>1470057900</td>\n",
       "      <td>623.13</td>\n",
       "      <td>623.13</td>\n",
       "      <td>623.13</td>\n",
       "      <td>623.13</td>\n",
       "      <td>623.130000</td>\n",
       "    </tr>\n",
       "  </tbody>\n",
       "</table>\n",
       "</div>"
      ],
      "text/plain": [
       "          timestamp    open    high     low   close        vwap\n",
       "2405857  1470057660  623.11  623.13  623.11  623.13  623.122474\n",
       "2405858  1470057720  623.00  623.00  623.00  623.00  623.000000\n",
       "2405859  1470057780  623.13  623.13  623.13  623.13  623.130000\n",
       "2405860  1470057840  622.67  623.13  622.67  623.13  623.010421\n",
       "2405861  1470057900  623.13  623.13  623.13  623.13  623.130000"
      ]
     },
     "execution_count": 3,
     "metadata": {},
     "output_type": "execute_result"
    }
   ],
   "source": [
    "bitstamp_df.head()"
   ]
  },
  {
   "cell_type": "code",
   "execution_count": 4,
   "metadata": {},
   "outputs": [
    {
     "data": {
      "text/html": [
       "<div>\n",
       "<style scoped>\n",
       "    .dataframe tbody tr th:only-of-type {\n",
       "        vertical-align: middle;\n",
       "    }\n",
       "\n",
       "    .dataframe tbody tr th {\n",
       "        vertical-align: top;\n",
       "    }\n",
       "\n",
       "    .dataframe thead th {\n",
       "        text-align: right;\n",
       "    }\n",
       "</style>\n",
       "<table border=\"1\" class=\"dataframe\">\n",
       "  <thead>\n",
       "    <tr style=\"text-align: right;\">\n",
       "      <th></th>\n",
       "      <th>timestamp</th>\n",
       "      <th>open</th>\n",
       "      <th>high</th>\n",
       "      <th>low</th>\n",
       "      <th>close</th>\n",
       "      <th>vwap</th>\n",
       "    </tr>\n",
       "  </thead>\n",
       "  <tbody>\n",
       "    <tr>\n",
       "      <th>3405852</th>\n",
       "      <td>1530057360</td>\n",
       "      <td>6061.61</td>\n",
       "      <td>6079.52</td>\n",
       "      <td>6060.99</td>\n",
       "      <td>6079.52</td>\n",
       "      <td>6075.509043</td>\n",
       "    </tr>\n",
       "    <tr>\n",
       "      <th>3405853</th>\n",
       "      <td>1530057420</td>\n",
       "      <td>6078.44</td>\n",
       "      <td>6080.11</td>\n",
       "      <td>6067.64</td>\n",
       "      <td>6071.83</td>\n",
       "      <td>6072.944713</td>\n",
       "    </tr>\n",
       "    <tr>\n",
       "      <th>3405854</th>\n",
       "      <td>1530057480</td>\n",
       "      <td>6079.15</td>\n",
       "      <td>6085.53</td>\n",
       "      <td>6070.10</td>\n",
       "      <td>6084.69</td>\n",
       "      <td>6076.815504</td>\n",
       "    </tr>\n",
       "    <tr>\n",
       "      <th>3405855</th>\n",
       "      <td>1530057540</td>\n",
       "      <td>6082.21</td>\n",
       "      <td>6086.86</td>\n",
       "      <td>6068.00</td>\n",
       "      <td>6068.00</td>\n",
       "      <td>6076.408637</td>\n",
       "    </tr>\n",
       "    <tr>\n",
       "      <th>3405856</th>\n",
       "      <td>1530057600</td>\n",
       "      <td>6073.99</td>\n",
       "      <td>6075.41</td>\n",
       "      <td>6064.56</td>\n",
       "      <td>6070.79</td>\n",
       "      <td>6069.787707</td>\n",
       "    </tr>\n",
       "  </tbody>\n",
       "</table>\n",
       "</div>"
      ],
      "text/plain": [
       "          timestamp     open     high      low    close         vwap\n",
       "3405852  1530057360  6061.61  6079.52  6060.99  6079.52  6075.509043\n",
       "3405853  1530057420  6078.44  6080.11  6067.64  6071.83  6072.944713\n",
       "3405854  1530057480  6079.15  6085.53  6070.10  6084.69  6076.815504\n",
       "3405855  1530057540  6082.21  6086.86  6068.00  6068.00  6076.408637\n",
       "3405856  1530057600  6073.99  6075.41  6064.56  6070.79  6069.787707"
      ]
     },
     "execution_count": 4,
     "metadata": {},
     "output_type": "execute_result"
    }
   ],
   "source": [
    "bitstamp_df.tail()"
   ]
  },
  {
   "cell_type": "code",
   "execution_count": 5,
   "metadata": {},
   "outputs": [
    {
     "data": {
      "text/plain": [
       "[<matplotlib.lines.Line2D at 0x7f5e27012cf8>]"
      ]
     },
     "execution_count": 5,
     "metadata": {},
     "output_type": "execute_result"
    },
    {
     "data": {
      "image/png": "[encoded data removed]",
      "text/plain": [
       "<Figure size 432x288 with 1 Axes>"
      ]
     },
     "metadata": {},
     "output_type": "display_data"
    }
   ],
   "source": [
    "plt.plot(bitstamp_df.vwap[:500000])"
   ]
  },
  {
   "cell_type": "code",
   "execution_count": 6,
   "metadata": {},
   "outputs": [
    {
     "data": {
      "text/plain": [
       "[<matplotlib.lines.Line2D at 0x7f5e26f9dcc0>]"
      ]
     },
     "execution_count": 6,
     "metadata": {},
     "output_type": "execute_result"
    },
    {
     "data": {
      "image/png": "[encoded data removed]",
      "text/plain": [
       "<Figure size 432x288 with 1 Axes>"
      ]
     },
     "metadata": {},
     "output_type": "display_data"
    }
   ],
   "source": [
    "plt.plot(bitstamp_df.vwap[-500000:])"
   ]
  },
  {
   "cell_type": "code",
   "execution_count": 7,
   "metadata": {},
   "outputs": [],
   "source": [
    "bitstamp_df = bitstamp_df.set_index('timestamp')\n",
    "#add position; -1, 0, 1 = short, hold, long\n",
    "bitstamp_df['position'] = 0 \n",
    "#log difference change\n",
    "#reward\n",
    "bitstamp_df['vwap_returns'] = bitstamp_df['vwap'].shift(-1) / bitstamp_df['vwap'] - 1\n",
    "# bitstamp_df['vwap_returns'] = np.log(bitstamp_df['vwap'].shift(-1)) - np.log(bitstamp_df['vwap'])\n",
    "#state\n",
    "bitstamp_df.iloc[:,:5] = bitstamp_df.iloc[:,:5] / bitstamp_df.iloc[:,:5].shift(1) - 1\n",
    "# bitstamp_df.iloc[:,:5] = np.log(bitstamp_df.iloc[:,:5]) - np.log(bitstamp_df.iloc[:,:5].shift(1))\n",
    "#commission\n",
    "bitstamp_df['commission'] = 0\n",
    "#filter NaN\n",
    "bitstamp_df = bitstamp_df.iloc[1:-1,:]\n",
    "bitstamp_df = bitstamp_df.reset_index()"
   ]
  },
  {
   "cell_type": "code",
   "execution_count": 8,
   "metadata": {},
   "outputs": [
    {
     "data": {
      "text/html": [
       "<div>\n",
       "<style scoped>\n",
       "    .dataframe tbody tr th:only-of-type {\n",
       "        vertical-align: middle;\n",
       "    }\n",
       "\n",
       "    .dataframe tbody tr th {\n",
       "        vertical-align: top;\n",
       "    }\n",
       "\n",
       "    .dataframe thead th {\n",
       "        text-align: right;\n",
       "    }\n",
       "</style>\n",
       "<table border=\"1\" class=\"dataframe\">\n",
       "  <thead>\n",
       "    <tr style=\"text-align: right;\">\n",
       "      <th></th>\n",
       "      <th>timestamp</th>\n",
       "      <th>open</th>\n",
       "      <th>high</th>\n",
       "      <th>low</th>\n",
       "      <th>close</th>\n",
       "      <th>vwap</th>\n",
       "      <th>position</th>\n",
       "      <th>vwap_returns</th>\n",
       "      <th>commission</th>\n",
       "    </tr>\n",
       "  </thead>\n",
       "  <tbody>\n",
       "    <tr>\n",
       "      <th>999993</th>\n",
       "      <td>1530057300</td>\n",
       "      <td>-0.001235</td>\n",
       "      <td>-0.000107</td>\n",
       "      <td>-0.000584</td>\n",
       "      <td>0.001803</td>\n",
       "      <td>0.000552</td>\n",
       "      <td>0</td>\n",
       "      <td>0.001215</td>\n",
       "      <td>0</td>\n",
       "    </tr>\n",
       "    <tr>\n",
       "      <th>999994</th>\n",
       "      <td>1530057360</td>\n",
       "      <td>-0.000582</td>\n",
       "      <td>0.001240</td>\n",
       "      <td>0.000667</td>\n",
       "      <td>0.001334</td>\n",
       "      <td>0.001215</td>\n",
       "      <td>0</td>\n",
       "      <td>-0.000422</td>\n",
       "      <td>0</td>\n",
       "    </tr>\n",
       "    <tr>\n",
       "      <th>999995</th>\n",
       "      <td>1530057420</td>\n",
       "      <td>0.002776</td>\n",
       "      <td>0.000097</td>\n",
       "      <td>0.001097</td>\n",
       "      <td>-0.001265</td>\n",
       "      <td>-0.000422</td>\n",
       "      <td>0</td>\n",
       "      <td>0.000637</td>\n",
       "      <td>0</td>\n",
       "    </tr>\n",
       "    <tr>\n",
       "      <th>999996</th>\n",
       "      <td>1530057480</td>\n",
       "      <td>0.000117</td>\n",
       "      <td>0.000891</td>\n",
       "      <td>0.000405</td>\n",
       "      <td>0.002118</td>\n",
       "      <td>0.000637</td>\n",
       "      <td>0</td>\n",
       "      <td>-0.000067</td>\n",
       "      <td>0</td>\n",
       "    </tr>\n",
       "    <tr>\n",
       "      <th>999997</th>\n",
       "      <td>1530057540</td>\n",
       "      <td>0.000503</td>\n",
       "      <td>0.000219</td>\n",
       "      <td>-0.000346</td>\n",
       "      <td>-0.002743</td>\n",
       "      <td>-0.000067</td>\n",
       "      <td>0</td>\n",
       "      <td>-0.001090</td>\n",
       "      <td>0</td>\n",
       "    </tr>\n",
       "  </tbody>\n",
       "</table>\n",
       "</div>"
      ],
      "text/plain": [
       "         timestamp      open      high       low     close      vwap  \\\n",
       "999993  1530057300 -0.001235 -0.000107 -0.000584  0.001803  0.000552   \n",
       "999994  1530057360 -0.000582  0.001240  0.000667  0.001334  0.001215   \n",
       "999995  1530057420  0.002776  0.000097  0.001097 -0.001265 -0.000422   \n",
       "999996  1530057480  0.000117  0.000891  0.000405  0.002118  0.000637   \n",
       "999997  1530057540  0.000503  0.000219 -0.000346 -0.002743 -0.000067   \n",
       "\n",
       "        position  vwap_returns  commission  \n",
       "999993         0      0.001215           0  \n",
       "999994         0     -0.000422           0  \n",
       "999995         0      0.000637           0  \n",
       "999996         0     -0.000067           0  \n",
       "999997         0     -0.001090           0  "
      ]
     },
     "execution_count": 8,
     "metadata": {},
     "output_type": "execute_result"
    }
   ],
   "source": [
    "bitstamp_df.tail()"
   ]
  },
  {
   "cell_type": "code",
   "execution_count": 9,
   "metadata": {},
   "outputs": [
    {
     "data": {
      "text/html": [
       "<div>\n",
       "<style scoped>\n",
       "    .dataframe tbody tr th:only-of-type {\n",
       "        vertical-align: middle;\n",
       "    }\n",
       "\n",
       "    .dataframe tbody tr th {\n",
       "        vertical-align: top;\n",
       "    }\n",
       "\n",
       "    .dataframe thead th {\n",
       "        text-align: right;\n",
       "    }\n",
       "</style>\n",
       "<table border=\"1\" class=\"dataframe\">\n",
       "  <thead>\n",
       "    <tr style=\"text-align: right;\">\n",
       "      <th></th>\n",
       "      <th>timestamp</th>\n",
       "      <th>open</th>\n",
       "      <th>high</th>\n",
       "      <th>low</th>\n",
       "      <th>close</th>\n",
       "      <th>vwap</th>\n",
       "      <th>position</th>\n",
       "      <th>vwap_returns</th>\n",
       "      <th>commission</th>\n",
       "    </tr>\n",
       "  </thead>\n",
       "  <tbody>\n",
       "    <tr>\n",
       "      <th>0</th>\n",
       "      <td>1470057720</td>\n",
       "      <td>-0.000177</td>\n",
       "      <td>-0.000209</td>\n",
       "      <td>-0.000177</td>\n",
       "      <td>-0.000209</td>\n",
       "      <td>-0.000197</td>\n",
       "      <td>0</td>\n",
       "      <td>2.086677e-04</td>\n",
       "      <td>0</td>\n",
       "    </tr>\n",
       "    <tr>\n",
       "      <th>1</th>\n",
       "      <td>1470057780</td>\n",
       "      <td>0.000209</td>\n",
       "      <td>0.000209</td>\n",
       "      <td>0.000209</td>\n",
       "      <td>0.000209</td>\n",
       "      <td>0.000209</td>\n",
       "      <td>0</td>\n",
       "      <td>-1.919006e-04</td>\n",
       "      <td>0</td>\n",
       "    </tr>\n",
       "    <tr>\n",
       "      <th>2</th>\n",
       "      <td>1470057840</td>\n",
       "      <td>-0.000738</td>\n",
       "      <td>0.000000</td>\n",
       "      <td>-0.000738</td>\n",
       "      <td>0.000000</td>\n",
       "      <td>-0.000192</td>\n",
       "      <td>0</td>\n",
       "      <td>1.919374e-04</td>\n",
       "      <td>0</td>\n",
       "    </tr>\n",
       "    <tr>\n",
       "      <th>3</th>\n",
       "      <td>1470057900</td>\n",
       "      <td>0.000739</td>\n",
       "      <td>0.000000</td>\n",
       "      <td>0.000739</td>\n",
       "      <td>0.000000</td>\n",
       "      <td>0.000192</td>\n",
       "      <td>0</td>\n",
       "      <td>-4.814405e-05</td>\n",
       "      <td>0</td>\n",
       "    </tr>\n",
       "    <tr>\n",
       "      <th>4</th>\n",
       "      <td>1470057960</td>\n",
       "      <td>-0.000048</td>\n",
       "      <td>-0.000048</td>\n",
       "      <td>-0.000048</td>\n",
       "      <td>-0.000048</td>\n",
       "      <td>-0.000048</td>\n",
       "      <td>0</td>\n",
       "      <td>2.377628e-07</td>\n",
       "      <td>0</td>\n",
       "    </tr>\n",
       "  </tbody>\n",
       "</table>\n",
       "</div>"
      ],
      "text/plain": [
       "    timestamp      open      high       low     close      vwap  position  \\\n",
       "0  1470057720 -0.000177 -0.000209 -0.000177 -0.000209 -0.000197         0   \n",
       "1  1470057780  0.000209  0.000209  0.000209  0.000209  0.000209         0   \n",
       "2  1470057840 -0.000738  0.000000 -0.000738  0.000000 -0.000192         0   \n",
       "3  1470057900  0.000739  0.000000  0.000739  0.000000  0.000192         0   \n",
       "4  1470057960 -0.000048 -0.000048 -0.000048 -0.000048 -0.000048         0   \n",
       "\n",
       "   vwap_returns  commission  \n",
       "0  2.086677e-04           0  \n",
       "1 -1.919006e-04           0  \n",
       "2  1.919374e-04           0  \n",
       "3 -4.814405e-05           0  \n",
       "4  2.377628e-07           0  "
      ]
     },
     "execution_count": 9,
     "metadata": {},
     "output_type": "execute_result"
    }
   ],
   "source": [
    "bitstamp_df.head()"
   ]
  },
  {
   "cell_type": "code",
   "execution_count": 10,
   "metadata": {},
   "outputs": [
    {
     "name": "stdout",
     "output_type": "stream",
     "text": [
      "Buy and Hold: 9.742837410914614\n",
      "Uniform Random: 0.0\n"
     ]
    }
   ],
   "source": [
    "log_returns = (bitstamp_df['vwap_returns']+1)\n",
    "print(f'Buy and Hold: {(log_returns * 1).prod()}')\n",
    "position = np.random.choice([-1,0,1],bitstamp_df.shape[0])\n",
    "print(f'Uniform Random: {(log_returns * position).prod()}')"
   ]
  },
  {
   "cell_type": "markdown",
   "metadata": {},
   "source": [
    "## Environment"
   ]
  },
  {
   "cell_type": "code",
   "execution_count": 11,
   "metadata": {},
   "outputs": [
    {
     "data": {
      "text/plain": [
       "(1, 6, 60)"
      ]
     },
     "execution_count": 11,
     "metadata": {},
     "output_type": "execute_result"
    }
   ],
   "source": [
    "from position_bot.environment import SingleStockMarket\n",
    "env = SingleStockMarket(bitstamp_df)\n",
    "env.reset().shape"
   ]
  },
  {
   "cell_type": "code",
   "execution_count": 12,
   "metadata": {},
   "outputs": [
    {
     "name": "stderr",
     "output_type": "stream",
     "text": [
      "100%|██████████| 10/10 [00:00<00:00, 12.99it/s]\n"
     ]
    }
   ],
   "source": [
    "env = SingleStockMarket(bitstamp_df)\n",
    "state = env.reset()\n",
    "episodes = []\n",
    "\n",
    "def get_action(state):\n",
    "    return(np.random.choice([0,1,2]))\n",
    "\n",
    "for i in trange(10):\n",
    "    action = get_action(state)\n",
    "    next_state,reward,done,info = env.step(action)\n",
    "    state = next_state"
   ]
  },
  {
   "cell_type": "code",
   "execution_count": 13,
   "metadata": {},
   "outputs": [
    {
     "data": {
      "text/html": [
       "<div>\n",
       "<style scoped>\n",
       "    .dataframe tbody tr th:only-of-type {\n",
       "        vertical-align: middle;\n",
       "    }\n",
       "\n",
       "    .dataframe tbody tr th {\n",
       "        vertical-align: top;\n",
       "    }\n",
       "\n",
       "    .dataframe thead th {\n",
       "        text-align: right;\n",
       "    }\n",
       "</style>\n",
       "<table border=\"1\" class=\"dataframe\">\n",
       "  <thead>\n",
       "    <tr style=\"text-align: right;\">\n",
       "      <th></th>\n",
       "      <th>timestamp</th>\n",
       "      <th>open</th>\n",
       "      <th>high</th>\n",
       "      <th>low</th>\n",
       "      <th>close</th>\n",
       "      <th>vwap</th>\n",
       "      <th>position</th>\n",
       "      <th>vwap_returns</th>\n",
       "      <th>commission</th>\n",
       "    </tr>\n",
       "  </thead>\n",
       "  <tbody>\n",
       "    <tr>\n",
       "      <th>60</th>\n",
       "      <td>1470061320</td>\n",
       "      <td>0.000000</td>\n",
       "      <td>0.000000</td>\n",
       "      <td>0.000000</td>\n",
       "      <td>0.000000</td>\n",
       "      <td>0.000000</td>\n",
       "      <td>1</td>\n",
       "      <td>-0.002721</td>\n",
       "      <td>0.000000</td>\n",
       "    </tr>\n",
       "    <tr>\n",
       "      <th>61</th>\n",
       "      <td>1470061380</td>\n",
       "      <td>-0.002721</td>\n",
       "      <td>-0.002721</td>\n",
       "      <td>-0.002721</td>\n",
       "      <td>-0.002721</td>\n",
       "      <td>-0.002721</td>\n",
       "      <td>1</td>\n",
       "      <td>0.000000</td>\n",
       "      <td>0.000000</td>\n",
       "    </tr>\n",
       "    <tr>\n",
       "      <th>62</th>\n",
       "      <td>1470061440</td>\n",
       "      <td>0.000000</td>\n",
       "      <td>0.000000</td>\n",
       "      <td>0.000000</td>\n",
       "      <td>0.000000</td>\n",
       "      <td>0.000000</td>\n",
       "      <td>0</td>\n",
       "      <td>0.000000</td>\n",
       "      <td>0.001000</td>\n",
       "    </tr>\n",
       "    <tr>\n",
       "      <th>63</th>\n",
       "      <td>1470061500</td>\n",
       "      <td>0.000000</td>\n",
       "      <td>0.000000</td>\n",
       "      <td>0.000000</td>\n",
       "      <td>0.000000</td>\n",
       "      <td>0.000000</td>\n",
       "      <td>0</td>\n",
       "      <td>0.000785</td>\n",
       "      <td>0.000000</td>\n",
       "    </tr>\n",
       "    <tr>\n",
       "      <th>64</th>\n",
       "      <td>1470061560</td>\n",
       "      <td>0.002151</td>\n",
       "      <td>0.002151</td>\n",
       "      <td>0.000048</td>\n",
       "      <td>0.000048</td>\n",
       "      <td>0.000785</td>\n",
       "      <td>-1</td>\n",
       "      <td>-0.001339</td>\n",
       "      <td>0.002001</td>\n",
       "    </tr>\n",
       "    <tr>\n",
       "      <th>65</th>\n",
       "      <td>1470061620</td>\n",
       "      <td>-0.002098</td>\n",
       "      <td>-0.002098</td>\n",
       "      <td>-0.000787</td>\n",
       "      <td>-0.000787</td>\n",
       "      <td>-0.001339</td>\n",
       "      <td>0</td>\n",
       "      <td>0.000000</td>\n",
       "      <td>0.000999</td>\n",
       "    </tr>\n",
       "    <tr>\n",
       "      <th>66</th>\n",
       "      <td>1470061680</td>\n",
       "      <td>0.000000</td>\n",
       "      <td>0.000000</td>\n",
       "      <td>0.000000</td>\n",
       "      <td>0.000000</td>\n",
       "      <td>0.000000</td>\n",
       "      <td>1</td>\n",
       "      <td>0.000000</td>\n",
       "      <td>0.002000</td>\n",
       "    </tr>\n",
       "    <tr>\n",
       "      <th>67</th>\n",
       "      <td>1470061740</td>\n",
       "      <td>0.000000</td>\n",
       "      <td>0.000000</td>\n",
       "      <td>0.000000</td>\n",
       "      <td>0.000000</td>\n",
       "      <td>0.000000</td>\n",
       "      <td>0</td>\n",
       "      <td>0.000000</td>\n",
       "      <td>0.001000</td>\n",
       "    </tr>\n",
       "    <tr>\n",
       "      <th>68</th>\n",
       "      <td>1470061800</td>\n",
       "      <td>0.000000</td>\n",
       "      <td>0.000000</td>\n",
       "      <td>0.000000</td>\n",
       "      <td>0.000000</td>\n",
       "      <td>0.000000</td>\n",
       "      <td>1</td>\n",
       "      <td>-0.000184</td>\n",
       "      <td>0.002000</td>\n",
       "    </tr>\n",
       "    <tr>\n",
       "      <th>69</th>\n",
       "      <td>1470061860</td>\n",
       "      <td>-0.000787</td>\n",
       "      <td>-0.000787</td>\n",
       "      <td>0.000000</td>\n",
       "      <td>0.000000</td>\n",
       "      <td>-0.000184</td>\n",
       "      <td>1</td>\n",
       "      <td>0.000000</td>\n",
       "      <td>0.000000</td>\n",
       "    </tr>\n",
       "  </tbody>\n",
       "</table>\n",
       "</div>"
      ],
      "text/plain": [
       "     timestamp      open      high       low     close      vwap  position  \\\n",
       "60  1470061320  0.000000  0.000000  0.000000  0.000000  0.000000         1   \n",
       "61  1470061380 -0.002721 -0.002721 -0.002721 -0.002721 -0.002721         1   \n",
       "62  1470061440  0.000000  0.000000  0.000000  0.000000  0.000000         0   \n",
       "63  1470061500  0.000000  0.000000  0.000000  0.000000  0.000000         0   \n",
       "64  1470061560  0.002151  0.002151  0.000048  0.000048  0.000785        -1   \n",
       "65  1470061620 -0.002098 -0.002098 -0.000787 -0.000787 -0.001339         0   \n",
       "66  1470061680  0.000000  0.000000  0.000000  0.000000  0.000000         1   \n",
       "67  1470061740  0.000000  0.000000  0.000000  0.000000  0.000000         0   \n",
       "68  1470061800  0.000000  0.000000  0.000000  0.000000  0.000000         1   \n",
       "69  1470061860 -0.000787 -0.000787  0.000000  0.000000 -0.000184         1   \n",
       "\n",
       "    vwap_returns  commission  \n",
       "60     -0.002721    0.000000  \n",
       "61      0.000000    0.000000  \n",
       "62      0.000000    0.001000  \n",
       "63      0.000785    0.000000  \n",
       "64     -0.001339    0.002001  \n",
       "65      0.000000    0.000999  \n",
       "66      0.000000    0.002000  \n",
       "67      0.000000    0.001000  \n",
       "68     -0.000184    0.002000  \n",
       "69      0.000000    0.000000  "
      ]
     },
     "execution_count": 13,
     "metadata": {},
     "output_type": "execute_result"
    }
   ],
   "source": [
    "env.df.iloc[env.start_idx:env.idx,:]"
   ]
  },
  {
   "cell_type": "markdown",
   "metadata": {},
   "source": [
    "## Learner"
   ]
  },
  {
   "cell_type": "markdown",
   "metadata": {},
   "source": [
    "### Replay Memory"
   ]
  },
  {
   "cell_type": "code",
   "execution_count": 14,
   "metadata": {},
   "outputs": [
    {
     "name": "stderr",
     "output_type": "stream",
     "text": [
      "100%|██████████| 10/10 [00:00<00:00, 11.71it/s]\n"
     ]
    },
    {
     "data": {
      "text/plain": [
       "5"
      ]
     },
     "execution_count": 14,
     "metadata": {},
     "output_type": "execute_result"
    }
   ],
   "source": [
    "from position_bot.replay_memory import ReplayMemory, PrioritizedMemory\n",
    "mem = ReplayMemory(10000)\n",
    "\n",
    "env = SingleStockMarket(bitstamp_df)\n",
    "state = env.reset()\n",
    "\n",
    "def get_action(state):\n",
    "    return(np.random.choice([0,1,2]))\n",
    "\n",
    "for i in trange(10):\n",
    "    action = get_action(state)\n",
    "    next_state,reward,done,info = env.step(action)\n",
    "    mem.add(state, action, reward, next_state, done)\n",
    "    state = next_state\n",
    "    \n",
    "len(mem.sample(10))"
   ]
  },
  {
   "cell_type": "markdown",
   "metadata": {},
   "source": [
    "### Network"
   ]
  },
  {
   "cell_type": "code",
   "execution_count": 15,
   "metadata": {},
   "outputs": [
    {
     "data": {
      "text/plain": [
       "tensor([[-0.0443,  0.0314, -0.0630],\n",
       "        [-0.0503, -0.0042,  0.0036],\n",
       "        [-0.0202,  0.0610, -0.0407],\n",
       "        [-0.0461,  0.0247, -0.0730],\n",
       "        [-0.0104,  0.0360, -0.0116],\n",
       "        [-0.0626,  0.0455, -0.0913],\n",
       "        [-0.0185,  0.0657, -0.0640],\n",
       "        [-0.1037, -0.0029, -0.0431],\n",
       "        [-0.0620,  0.0204, -0.0367],\n",
       "        [-0.0085,  0.0464, -0.0131]], grad_fn=<ThAddmmBackward>)"
      ]
     },
     "execution_count": 15,
     "metadata": {},
     "output_type": "execute_result"
    }
   ],
   "source": [
    "from position_bot.qnetwork import *\n",
    "m = QNetwork()\n",
    "x = mem.sample(10)[0]\n",
    "m(x)"
   ]
  },
  {
   "cell_type": "markdown",
   "metadata": {},
   "source": [
    "### Agent"
   ]
  },
  {
   "cell_type": "code",
   "execution_count": 16,
   "metadata": {},
   "outputs": [],
   "source": [
    "from position_bot.agent import *"
   ]
  },
  {
   "cell_type": "markdown",
   "metadata": {},
   "source": [
    "### Training"
   ]
  },
  {
   "cell_type": "code",
   "execution_count": 17,
   "metadata": {},
   "outputs": [],
   "source": [
    "env = SingleStockMarket(bitstamp_df)\n",
    "mem = ReplayMemory(10000)\n",
    "a = VanillaQAgent(replay_memory = mem)"
   ]
  },
  {
   "cell_type": "code",
   "execution_count": null,
   "metadata": {},
   "outputs": [
    {
     "name": "stderr",
     "output_type": "stream",
     "text": [
      " 27%|██▋       | 27140/100000 [26:30<1:11:08, 17.07it/s]"
     ]
    }
   ],
   "source": [
    "state = env.reset()\n",
    "for i in trange(100000):\n",
    "    #select action\n",
    "    action = a.act(state,i)  \n",
    "\n",
    "    #step\n",
    "    next_state,reward,done,info = env.step(action)                \n",
    "    a.step(state,action,reward,next_state,done)\n",
    "\n",
    "    state = next_state                          "
   ]
  },
  {
   "cell_type": "code",
   "execution_count": null,
   "metadata": {},
   "outputs": [],
   "source": [
    "plt.plot(a.losses)"
   ]
  },
  {
   "cell_type": "code",
   "execution_count": null,
   "metadata": {},
   "outputs": [],
   "source": [
    "plt.plot(bitstamp_original.iloc[:env.idx,:]['vwap'])"
   ]
  },
  {
   "cell_type": "code",
   "execution_count": null,
   "metadata": {},
   "outputs": [],
   "source": [
    "Counter(env.df.iloc[:env.idx,:]['position'])"
   ]
  },
  {
   "cell_type": "code",
   "execution_count": null,
   "metadata": {},
   "outputs": [],
   "source": [
    "model_name = f'{DATA_PATH}models/vanilla_q.pth'\n",
    "df_name = f'{DATA_PATH}models/vanilla_q.csv'\n",
    "a.save_agent(model_name,df_name)\n",
    "a.load_agent(model_name,df_name)\n",
    "a.idx"
   ]
  },
  {
   "cell_type": "code",
   "execution_count": null,
   "metadata": {},
   "outputs": [],
   "source": [
    "def model_eval(env):\n",
    "    return(env.get_sharpe(), (env.df.iloc[:env.idx]['vwap_returns'] * env.df.iloc[env.start_idx:env.idx]['position'] +1).prod())\n",
    "\n",
    "def buy_eval(env):\n",
    "    env_buy = SingleStockMarket(env.df)\n",
    "    env_buy.idx = env.idx\n",
    "    env_buy.df['position'] = 1\n",
    "    return(env_buy.get_sharpe(), (env_buy.df.iloc[env_buy.start_idx:env_buy.idx]['vwap_returns']+1).prod())\n",
    "\n",
    "def momentum_eval(env):\n",
    "    env_momentum = SingleStockMarket(bitstamp_df)\n",
    "    env_momentum.idx = env.idx \n",
    "    #fibs\n",
    "    env_momentum.df['mom8'] = env_momentum.df['vwap'].rolling(momentum*4).mean()\n",
    "    env_momentum.df['mom13'] = env_momentum.df['vwap'].rolling(momentum).mean()\n",
    "    env_momentum.df['mom21'] = env_momentum.df['vwap'].rolling(momentum*4).mean()\n",
    "    env_momentum.df['mom55'] = env_momentum.df['vwap'].rolling(momentum*4).mean()\n",
    "    \n",
    "    env_momentum.df['position'] = (env_momentum.df['vwap'].rolling(momentum).mean() < env_momentum.df['vwap']).astype(int)\n",
    "    env_momentum.df['position'] = env_momentum.df['position'].apply(lambda x: -1 if x==0 else 1)\n",
    "    print(env_momentum.df['position'])\n",
    "    return(env_momentum.get_sharpe(), \n",
    "           (env_momentum.df.iloc[env_momentum.start_idx:env_momentum.idx]['position'] *\n",
    "            env_momentum.df.iloc[env_momentum.start_idx:env_momentum.idx]['vwap_returns']+1).prod())"
   ]
  },
  {
   "cell_type": "code",
   "execution_count": null,
   "metadata": {},
   "outputs": [],
   "source": [
    "d = {\n",
    "    'model_sharpe': model_eval(env)[0],\n",
    "    'model_returns': model_eval(env)[1],\n",
    "    'buy_sharpe': buy_eval(env)[0],\n",
    "    'buy_returns': buy_eval(env)[1],\n",
    "    'momentum_sharpe': momentum_eval(env)[0],\n",
    "    'momentum_returns': momentum_eval(env)[1],\n",
    "    }\n",
    "d"
   ]
  },
  {
   "cell_type": "code",
   "execution_count": null,
   "metadata": {},
   "outputs": [],
   "source": [
    "momentum=5\n",
    "env_momentum = SingleStockMarket(bitstamp_df)\n",
    "env_momentum.idx = env.idx\n",
    "env_momentum.df['avg_mom'] = env_momentum.df['vwap'].rolling(momentum).apply(lambda x: np.prod(1 + x) - 1)\n",
    "env_momentum.df['position'] = np.sign(env_momentum.df.avg_mom)"
   ]
  },
  {
   "cell_type": "code",
   "execution_count": null,
   "metadata": {},
   "outputs": [],
   "source": [
    "np.prod(env_momentum.df.iloc[:5,:]['vwap']+1) -1"
   ]
  },
  {
   "cell_type": "code",
   "execution_count": null,
   "metadata": {},
   "outputs": [],
   "source": [
    "plt.plot(bitstamp_original.iloc[env_momentum.start_idx:env_momentum.idx,:]['vwap'])"
   ]
  },
  {
   "cell_type": "markdown",
   "metadata": {},
   "source": [
    "### Validation"
   ]
  },
  {
   "cell_type": "code",
   "execution_count": null,
   "metadata": {},
   "outputs": [],
   "source": [
    "# valid_len = 1e4\n",
    "# seq_len = 60\n",
    "# ds = []\n",
    "\n",
    "# for j in range(10):\n",
    "#     print(f'Validation #{j}')\n",
    "#     from_idx = int((j+1)*valid_len+seq_len)\n",
    "#     to_idx = int((j+1)*valid_len+valid_len+seq_len*2)\n",
    "#     df = bitstamp_df.iloc[from_idx:to_idx,:].reset_index()\n",
    "#     df.drop('index',axis = 1, inplace=True)\n",
    "#     env = SingleStockMarket(df)\n",
    "#     state = env.reset()\n",
    "#     for i in trange(10000):\n",
    "#         #select action\n",
    "#         action = a.act(state,1e3)  \n",
    "\n",
    "#         #step\n",
    "#         next_state,reward,done,info = env.step(action)                \n",
    "#         state = next_state \n",
    "    \n",
    "#     #record\n",
    "#     d = {'iter': j,\n",
    "#         'model_sharpe': model_eval(env)[0],\n",
    "#         'model_returns': model_eval(env)[1],\n",
    "#         'buy_sharpe': buy_eval(env)[0],\n",
    "#         'buy_returns': buy_eval(env)[1],\n",
    "#         'sell_sharpe': sell_eval(env)[0],\n",
    "#         'sell_returns': sell_eval(env)[1],\n",
    "#         'momentum_sharpe': momentum_eval(env)[0],\n",
    "#         'momentum_returns': momentum_eval(env)[1],\n",
    "#         }\n",
    "#     ds.append(d)"
   ]
  },
  {
   "cell_type": "code",
   "execution_count": null,
   "metadata": {},
   "outputs": [],
   "source": []
  }
 ],
 "metadata": {
  "kernelspec": {
   "display_name": "Python 3",
   "language": "python",
   "name": "python3"
  },
  "language_info": {
   "codemirror_mode": {
    "name": "ipython",
    "version": 3
   },
   "file_extension": ".py",
   "mimetype": "text/x-python",
   "name": "python",
   "nbconvert_exporter": "python",
   "pygments_lexer": "ipython3",
   "version": "3.6.6"
  }
 },
 "nbformat": 4,
 "nbformat_minor": 2
}

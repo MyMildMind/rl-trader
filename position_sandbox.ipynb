{
 "cells": [
  {
   "cell_type": "markdown",
   "metadata": {},
   "source": [
    "# Position Bot"
   ]
  },
  {
   "cell_type": "markdown",
   "metadata": {},
   "source": [
    "This agent is created to demonstrate how Q-learning can be applied to a real-world problem. Retail trading is chosed as it has a lot of resemblances with many real-world problem such as ads bidding. We created the environment based on [minute-level bitcoin price data from Kaggle](https://www.kaggle.com/mczielinski/bitcoin-historical-data/version/14). We use the original Deep Q-learning implementation as stated in the paper [Playing Atari with Deep Reinforcement Learning](https://www.cs.toronto.edu/~vmnih/docs/dqn.pdf). For more advanced implementations as well as other methods, check out our bi-weekly [Bangkok School of AI Reinforcement Learning Workshop](https://github.com/Datatouille/rl-workshop/).\n",
    "\n",
    "**Disclaimer** You will not get rich with this algorithm. We do not hold any Bitcoin position as of 2018-10-31. Nonetheless, there are several good points for applying DRL to automated trading as described [Denny Britz](http://www.wildml.com/2018/02/introduction-to-learning-to-trade-with-reinforcement-learning/):\n",
    "\n",
    "* Highly dynamic and uncertain; transaction fees, network latency, liquidity, competition, market conditions\n",
    "* End-to-end model; totally removed from human emotions\n",
    "\n"
   ]
  },
  {
   "cell_type": "markdown",
   "metadata": {},
   "source": [
    "## Colab"
   ]
  },
  {
   "cell_type": "code",
   "execution_count": 1,
   "metadata": {},
   "outputs": [],
   "source": [
    "# #Uncomment if you are running from Google Colaboratory\n",
    "# #data\n",
    "# !wget https://www.dropbox.com/s/dwg0yfqb5kq749a/bitstampUSD_1-min_data_2012-01-01_to_2018-06-27.csv\n",
    "# !mkdir data; cd data; mkdir bitcoin-historical-data\n",
    "# !mv bitstampUSD_1-min_data_2012-01-01_to_2018-06-27.csv data/bitcoin-historical-data\n",
    "\n",
    "# #repo\n",
    "# !wget https://github.com/cstorm125/rl_trader/archive/master.zip\n",
    "# !unzip master.zip\n",
    "# !cd rl_trader-master; mv position_bot ../\n",
    "\n",
    "# # http://pytorch.org/\n",
    "# from os.path import exists\n",
    "# from wheel.pep425tags import get_abbr_impl, get_impl_ver, get_abi_tag\n",
    "# platform = '{}{}-{}'.format(get_abbr_impl(), get_impl_ver(), get_abi_tag())\n",
    "# cuda_output = !ldconfig -p|grep cudart.so|sed -e 's/.*\\.\\([0-9]*\\)\\.\\([0-9]*\\)$/cu\\1\\2/'\n",
    "# accelerator = cuda_output[0] if exists('/dev/nvidia0') else 'cpu'\n",
    "\n",
    "# !pip install -q http://download.pytorch.org/whl/{accelerator}/torch-0.4.1-{platform}-linux_x86_64.whl torchvision"
   ]
  },
  {
   "cell_type": "markdown",
   "metadata": {},
   "source": [
    "## Import"
   ]
  },
  {
   "cell_type": "code",
   "execution_count": 2,
   "metadata": {},
   "outputs": [],
   "source": [
    "%reload_ext autoreload\n",
    "%autoreload 2\n",
    "%matplotlib inline\n",
    "\n",
    "import random\n",
    "import pandas as pd\n",
    "import numpy as np\n",
    "import matplotlib.pyplot as plt\n",
    "import seaborn as sns\n",
    "from tqdm import trange\n",
    "from collections import defaultdict, namedtuple, deque, Counter\n",
    "from datetime import datetime\n",
    "\n",
    "import warnings\n",
    "warnings.filterwarnings('ignore')\n",
    "\n",
    "#torch\n",
    "import torch\n",
    "import torch.nn as nn\n",
    "import torch.nn.functional as F\n",
    "from torch import optim\n",
    "device = torch.device(\"cuda:0\" if torch.cuda.is_available() else \"cpu\")\n",
    "\n",
    "#rl\n",
    "from position_bot.environment import SingleStockMarket\n",
    "from position_bot.replay_memory import ReplayMemory\n",
    "from position_bot.qnetwork import QNetwork\n",
    "from position_bot.agent import VanillaQAgent\n",
    "from position_bot.eval import *\n",
    "\n",
    "DATA_PATH = 'data/'\n",
    "#raw data from https://www.kaggle.com/mczielinski/bitcoin-historical-data/version/14\n",
    "RAW_PATH = f'{DATA_PATH}bitcoin-historical-data/'"
   ]
  },
  {
   "cell_type": "markdown",
   "metadata": {},
   "source": [
    "## Data Processing"
   ]
  },
  {
   "cell_type": "markdown",
   "metadata": {},
   "source": [
    "We randomly chose a 100,000-minute period out of the data from 2012-01-01 to 2018-06-27. The price data includes `timestamp`, `open`, `high`, `low`, `close` and `volume-weighted adjusted price`. We processed the price data to be **minute-level percentage returns**. A column is added to denote `position` of the trade namely `short (-1)`, `nothing (0)` and `long (+1)`. Another column `commission` is also added to record percent commission per trade."
   ]
  },
  {
   "cell_type": "code",
   "execution_count": 3,
   "metadata": {},
   "outputs": [
    {
     "data": {
      "text/plain": [
       "(100000, 6)"
      ]
     },
     "execution_count": 3,
     "metadata": {},
     "output_type": "execute_result"
    }
   ],
   "source": [
    "bitstamp_df = pd.read_csv(f'{RAW_PATH}bitstampUSD_1-min_data_2012-01-01_to_2018-06-27.csv')\n",
    "bitstamp_df.columns = ['timestamp','open','high','low','close','vol_btc','vol_usd','vwap']\n",
    "#select only columns we're interested\n",
    "bitstamp_df = bitstamp_df[['timestamp','open','high','low','close','vwap']]\n",
    "#select only portions of timestamps we're interested\n",
    "bitstamp_df = bitstamp_df.iloc[-1000000:-900000,:]\n",
    "#for price reference\n",
    "bitstamp_original = bitstamp_df.copy()\n",
    "bitstamp_df.shape"
   ]
  },
  {
   "cell_type": "code",
   "execution_count": 4,
   "metadata": {},
   "outputs": [
    {
     "data": {
      "text/html": [
       "<div>\n",
       "<style scoped>\n",
       "    .dataframe tbody tr th:only-of-type {\n",
       "        vertical-align: middle;\n",
       "    }\n",
       "\n",
       "    .dataframe tbody tr th {\n",
       "        vertical-align: top;\n",
       "    }\n",
       "\n",
       "    .dataframe thead th {\n",
       "        text-align: right;\n",
       "    }\n",
       "</style>\n",
       "<table border=\"1\" class=\"dataframe\">\n",
       "  <thead>\n",
       "    <tr style=\"text-align: right;\">\n",
       "      <th></th>\n",
       "      <th>timestamp</th>\n",
       "      <th>open</th>\n",
       "      <th>high</th>\n",
       "      <th>low</th>\n",
       "      <th>close</th>\n",
       "      <th>vwap</th>\n",
       "    </tr>\n",
       "  </thead>\n",
       "  <tbody>\n",
       "    <tr>\n",
       "      <th>2505852</th>\n",
       "      <td>1476057360</td>\n",
       "      <td>613.06</td>\n",
       "      <td>613.06</td>\n",
       "      <td>613.06</td>\n",
       "      <td>613.06</td>\n",
       "      <td>613.06</td>\n",
       "    </tr>\n",
       "    <tr>\n",
       "      <th>2505853</th>\n",
       "      <td>1476057420</td>\n",
       "      <td>613.06</td>\n",
       "      <td>613.06</td>\n",
       "      <td>613.06</td>\n",
       "      <td>613.06</td>\n",
       "      <td>613.06</td>\n",
       "    </tr>\n",
       "    <tr>\n",
       "      <th>2505854</th>\n",
       "      <td>1476057480</td>\n",
       "      <td>613.06</td>\n",
       "      <td>613.06</td>\n",
       "      <td>613.06</td>\n",
       "      <td>613.06</td>\n",
       "      <td>613.06</td>\n",
       "    </tr>\n",
       "    <tr>\n",
       "      <th>2505855</th>\n",
       "      <td>1476057540</td>\n",
       "      <td>613.06</td>\n",
       "      <td>613.06</td>\n",
       "      <td>613.06</td>\n",
       "      <td>613.06</td>\n",
       "      <td>613.06</td>\n",
       "    </tr>\n",
       "    <tr>\n",
       "      <th>2505856</th>\n",
       "      <td>1476057600</td>\n",
       "      <td>613.06</td>\n",
       "      <td>613.06</td>\n",
       "      <td>613.06</td>\n",
       "      <td>613.06</td>\n",
       "      <td>613.06</td>\n",
       "    </tr>\n",
       "  </tbody>\n",
       "</table>\n",
       "</div>"
      ],
      "text/plain": [
       "          timestamp    open    high     low   close    vwap\n",
       "2505852  1476057360  613.06  613.06  613.06  613.06  613.06\n",
       "2505853  1476057420  613.06  613.06  613.06  613.06  613.06\n",
       "2505854  1476057480  613.06  613.06  613.06  613.06  613.06\n",
       "2505855  1476057540  613.06  613.06  613.06  613.06  613.06\n",
       "2505856  1476057600  613.06  613.06  613.06  613.06  613.06"
      ]
     },
     "execution_count": 4,
     "metadata": {},
     "output_type": "execute_result"
    }
   ],
   "source": [
    "bitstamp_df.tail()"
   ]
  },
  {
   "cell_type": "code",
   "execution_count": 5,
   "metadata": {},
   "outputs": [
    {
     "name": "stdout",
     "output_type": "stream",
     "text": [
      "from 2016-08-01 13:21:00       to 2016-10-10 00:00:00\n"
     ]
    }
   ],
   "source": [
    "print(f\"from {datetime.utcfromtimestamp(bitstamp_df.timestamp[2405857]).strftime('%Y-%m-%d %H:%M:%S')} \\\n",
    "      to {datetime.utcfromtimestamp(bitstamp_df.timestamp[2505856]).strftime('%Y-%m-%d %H:%M:%S')}\")"
   ]
  },
  {
   "cell_type": "code",
   "execution_count": 6,
   "metadata": {},
   "outputs": [
    {
     "data": {
      "text/plain": [
       "[<matplotlib.lines.Line2D at 0x7fce495e9978>]"
      ]
     },
     "execution_count": 6,
     "metadata": {},
     "output_type": "execute_result"
    },
    {
     "data": {
      "image/png": "[encoded data removed]",
      "text/plain": [
       "<Figure size 432x288 with 1 Axes>"
      ]
     },
     "metadata": {},
     "output_type": "display_data"
    }
   ],
   "source": [
    "plt.plot(bitstamp_df.vwap)"
   ]
  },
  {
   "cell_type": "code",
   "execution_count": 7,
   "metadata": {},
   "outputs": [],
   "source": [
    "bitstamp_df = bitstamp_df.set_index('timestamp')\n",
    "\n",
    "#action; -1, 0, 1 = short, hold, long\n",
    "bitstamp_df['position'] = 0\n",
    "\n",
    "#reward\n",
    "#log difference change\n",
    "# bitstamp_df['vwap_returns'] = np.log(bitstamp_df['vwap'].shift(-1)) - np.log(bitstamp_df['vwap'])\n",
    "#percentage change\n",
    "bitstamp_df['vwap_returns'] = bitstamp_df['vwap'].shift(-1) / bitstamp_df['vwap'] - 1\n",
    "\n",
    "#state\n",
    "bitstamp_df.iloc[:,:5] = bitstamp_df.iloc[:,:5] / bitstamp_df.iloc[:,:5].shift(1) - 1\n",
    "# bitstamp_df.iloc[:,:5] = np.log(bitstamp_df.iloc[:,:5]) - np.log(bitstamp_df.iloc[:,:5].shift(1))\n",
    "\n",
    "#commission\n",
    "bitstamp_df['commission'] = 0\n",
    "\n",
    "#filter NaN\n",
    "bitstamp_df = bitstamp_df.iloc[1:-1,:]\n",
    "bitstamp_df = bitstamp_df.reset_index()"
   ]
  },
  {
   "cell_type": "code",
   "execution_count": 8,
   "metadata": {},
   "outputs": [
    {
     "data": {
      "text/html": [
       "<div>\n",
       "<style scoped>\n",
       "    .dataframe tbody tr th:only-of-type {\n",
       "        vertical-align: middle;\n",
       "    }\n",
       "\n",
       "    .dataframe tbody tr th {\n",
       "        vertical-align: top;\n",
       "    }\n",
       "\n",
       "    .dataframe thead th {\n",
       "        text-align: right;\n",
       "    }\n",
       "</style>\n",
       "<table border=\"1\" class=\"dataframe\">\n",
       "  <thead>\n",
       "    <tr style=\"text-align: right;\">\n",
       "      <th></th>\n",
       "      <th>timestamp</th>\n",
       "      <th>open</th>\n",
       "      <th>high</th>\n",
       "      <th>low</th>\n",
       "      <th>close</th>\n",
       "      <th>vwap</th>\n",
       "      <th>position</th>\n",
       "      <th>vwap_returns</th>\n",
       "      <th>commission</th>\n",
       "    </tr>\n",
       "  </thead>\n",
       "  <tbody>\n",
       "    <tr>\n",
       "      <th>0</th>\n",
       "      <td>1470057720</td>\n",
       "      <td>-0.000177</td>\n",
       "      <td>-0.000209</td>\n",
       "      <td>-0.000177</td>\n",
       "      <td>-0.000209</td>\n",
       "      <td>-0.000197</td>\n",
       "      <td>0</td>\n",
       "      <td>2.086677e-04</td>\n",
       "      <td>0</td>\n",
       "    </tr>\n",
       "    <tr>\n",
       "      <th>1</th>\n",
       "      <td>1470057780</td>\n",
       "      <td>0.000209</td>\n",
       "      <td>0.000209</td>\n",
       "      <td>0.000209</td>\n",
       "      <td>0.000209</td>\n",
       "      <td>0.000209</td>\n",
       "      <td>0</td>\n",
       "      <td>-1.919006e-04</td>\n",
       "      <td>0</td>\n",
       "    </tr>\n",
       "    <tr>\n",
       "      <th>2</th>\n",
       "      <td>1470057840</td>\n",
       "      <td>-0.000738</td>\n",
       "      <td>0.000000</td>\n",
       "      <td>-0.000738</td>\n",
       "      <td>0.000000</td>\n",
       "      <td>-0.000192</td>\n",
       "      <td>0</td>\n",
       "      <td>1.919374e-04</td>\n",
       "      <td>0</td>\n",
       "    </tr>\n",
       "    <tr>\n",
       "      <th>3</th>\n",
       "      <td>1470057900</td>\n",
       "      <td>0.000739</td>\n",
       "      <td>0.000000</td>\n",
       "      <td>0.000739</td>\n",
       "      <td>0.000000</td>\n",
       "      <td>0.000192</td>\n",
       "      <td>0</td>\n",
       "      <td>-4.814405e-05</td>\n",
       "      <td>0</td>\n",
       "    </tr>\n",
       "    <tr>\n",
       "      <th>4</th>\n",
       "      <td>1470057960</td>\n",
       "      <td>-0.000048</td>\n",
       "      <td>-0.000048</td>\n",
       "      <td>-0.000048</td>\n",
       "      <td>-0.000048</td>\n",
       "      <td>-0.000048</td>\n",
       "      <td>0</td>\n",
       "      <td>2.377628e-07</td>\n",
       "      <td>0</td>\n",
       "    </tr>\n",
       "  </tbody>\n",
       "</table>\n",
       "</div>"
      ],
      "text/plain": [
       "    timestamp      open      high       low     close      vwap  position  \\\n",
       "0  1470057720 -0.000177 -0.000209 -0.000177 -0.000209 -0.000197         0   \n",
       "1  1470057780  0.000209  0.000209  0.000209  0.000209  0.000209         0   \n",
       "2  1470057840 -0.000738  0.000000 -0.000738  0.000000 -0.000192         0   \n",
       "3  1470057900  0.000739  0.000000  0.000739  0.000000  0.000192         0   \n",
       "4  1470057960 -0.000048 -0.000048 -0.000048 -0.000048 -0.000048         0   \n",
       "\n",
       "   vwap_returns  commission  \n",
       "0  2.086677e-04           0  \n",
       "1 -1.919006e-04           0  \n",
       "2  1.919374e-04           0  \n",
       "3 -4.814405e-05           0  \n",
       "4  2.377628e-07           0  "
      ]
     },
     "execution_count": 8,
     "metadata": {},
     "output_type": "execute_result"
    }
   ],
   "source": [
    "bitstamp_df.head()"
   ]
  },
  {
   "cell_type": "code",
   "execution_count": 9,
   "metadata": {},
   "outputs": [
    {
     "name": "stdout",
     "output_type": "stream",
     "text": [
      "Buy and Hold: 0.9840449438202138\n",
      "Uniform Random: -0.0\n"
     ]
    }
   ],
   "source": [
    "returns = (bitstamp_df['vwap_returns']+1)\n",
    "print(f'Buy and Hold: {(returns * 1).prod()}')\n",
    "position = np.random.choice([-1,0,1],bitstamp_df.shape[0])\n",
    "print(f'Uniform Random: {(returns * position).prod()}')"
   ]
  },
  {
   "cell_type": "markdown",
   "metadata": {},
   "source": [
    "## Environment"
   ]
  },
  {
   "cell_type": "markdown",
   "metadata": {},
   "source": [
    "* Problem: Maximize risk-adjusted returns\n",
    "* Environment: Bitcoin market from from 2016-08-01 13:21:00 to 2016-10-10 00:00:00\n",
    "* Agent: vanilla q-learning agent\n",
    "* States: 60-minute previous ohlc, vwap and position; **choice for window period**\n",
    "* Actions: short, nothing, long\n",
    "* Rewards: [differential sharpe ratio](https://www.investopedia.com/terms/s/sharperatio.asp); **choice between absolute and percentage**.\n",
    "* Episodes: minute"
   ]
  },
  {
   "cell_type": "code",
   "execution_count": 150,
   "metadata": {},
   "outputs": [
    {
     "data": {
      "text/plain": [
       "(1, 6, 60)"
      ]
     },
     "execution_count": 150,
     "metadata": {},
     "output_type": "execute_result"
    }
   ],
   "source": [
    "env = SingleStockMarket(bitstamp_df)\n",
    "env.reset().shape"
   ]
  },
  {
   "cell_type": "code",
   "execution_count": 41,
   "metadata": {},
   "outputs": [
    {
     "name": "stderr",
     "output_type": "stream",
     "text": [
      "100%|██████████| 10/10 [00:00<00:00, 143.75it/s]\n"
     ]
    }
   ],
   "source": [
    "env = SingleStockMarket(bitstamp_df)\n",
    "state = env.reset()\n",
    "episodes = []\n",
    "\n",
    "def get_action(state):\n",
    "    return(np.random.choice([0,1,2]))\n",
    "\n",
    "for i in trange(10):\n",
    "    action = get_action(state)\n",
    "    next_state,reward,done,info = env.step(action)\n",
    "    state = next_state"
   ]
  },
  {
   "cell_type": "code",
   "execution_count": 42,
   "metadata": {},
   "outputs": [
    {
     "data": {
      "text/html": [
       "<div>\n",
       "<style scoped>\n",
       "    .dataframe tbody tr th:only-of-type {\n",
       "        vertical-align: middle;\n",
       "    }\n",
       "\n",
       "    .dataframe tbody tr th {\n",
       "        vertical-align: top;\n",
       "    }\n",
       "\n",
       "    .dataframe thead th {\n",
       "        text-align: right;\n",
       "    }\n",
       "</style>\n",
       "<table border=\"1\" class=\"dataframe\">\n",
       "  <thead>\n",
       "    <tr style=\"text-align: right;\">\n",
       "      <th></th>\n",
       "      <th>timestamp</th>\n",
       "      <th>open</th>\n",
       "      <th>high</th>\n",
       "      <th>low</th>\n",
       "      <th>close</th>\n",
       "      <th>vwap</th>\n",
       "      <th>position</th>\n",
       "      <th>vwap_returns</th>\n",
       "      <th>commission</th>\n",
       "    </tr>\n",
       "  </thead>\n",
       "  <tbody>\n",
       "    <tr>\n",
       "      <th>60</th>\n",
       "      <td>1470061320</td>\n",
       "      <td>0.000000</td>\n",
       "      <td>0.000000</td>\n",
       "      <td>0.000000</td>\n",
       "      <td>0.000000</td>\n",
       "      <td>0.000000</td>\n",
       "      <td>-1</td>\n",
       "      <td>-0.002721</td>\n",
       "      <td>0.002003</td>\n",
       "    </tr>\n",
       "    <tr>\n",
       "      <th>61</th>\n",
       "      <td>1470061380</td>\n",
       "      <td>-0.002721</td>\n",
       "      <td>-0.002721</td>\n",
       "      <td>-0.002721</td>\n",
       "      <td>-0.002721</td>\n",
       "      <td>-0.002721</td>\n",
       "      <td>-1</td>\n",
       "      <td>0.000000</td>\n",
       "      <td>0.000000</td>\n",
       "    </tr>\n",
       "    <tr>\n",
       "      <th>62</th>\n",
       "      <td>1470061440</td>\n",
       "      <td>0.000000</td>\n",
       "      <td>0.000000</td>\n",
       "      <td>0.000000</td>\n",
       "      <td>0.000000</td>\n",
       "      <td>0.000000</td>\n",
       "      <td>0</td>\n",
       "      <td>0.000000</td>\n",
       "      <td>0.000997</td>\n",
       "    </tr>\n",
       "    <tr>\n",
       "      <th>63</th>\n",
       "      <td>1470061500</td>\n",
       "      <td>0.000000</td>\n",
       "      <td>0.000000</td>\n",
       "      <td>0.000000</td>\n",
       "      <td>0.000000</td>\n",
       "      <td>0.000000</td>\n",
       "      <td>1</td>\n",
       "      <td>0.000785</td>\n",
       "      <td>0.002000</td>\n",
       "    </tr>\n",
       "    <tr>\n",
       "      <th>64</th>\n",
       "      <td>1470061560</td>\n",
       "      <td>0.002151</td>\n",
       "      <td>0.002151</td>\n",
       "      <td>0.000048</td>\n",
       "      <td>0.000048</td>\n",
       "      <td>0.000785</td>\n",
       "      <td>1</td>\n",
       "      <td>-0.001339</td>\n",
       "      <td>0.000000</td>\n",
       "    </tr>\n",
       "    <tr>\n",
       "      <th>65</th>\n",
       "      <td>1470061620</td>\n",
       "      <td>-0.002098</td>\n",
       "      <td>-0.002098</td>\n",
       "      <td>-0.000787</td>\n",
       "      <td>-0.000787</td>\n",
       "      <td>-0.001339</td>\n",
       "      <td>-1</td>\n",
       "      <td>0.000000</td>\n",
       "      <td>0.001999</td>\n",
       "    </tr>\n",
       "    <tr>\n",
       "      <th>66</th>\n",
       "      <td>1470061680</td>\n",
       "      <td>0.000000</td>\n",
       "      <td>0.000000</td>\n",
       "      <td>0.000000</td>\n",
       "      <td>0.000000</td>\n",
       "      <td>0.000000</td>\n",
       "      <td>-1</td>\n",
       "      <td>0.000000</td>\n",
       "      <td>0.000000</td>\n",
       "    </tr>\n",
       "    <tr>\n",
       "      <th>67</th>\n",
       "      <td>1470061740</td>\n",
       "      <td>0.000000</td>\n",
       "      <td>0.000000</td>\n",
       "      <td>0.000000</td>\n",
       "      <td>0.000000</td>\n",
       "      <td>0.000000</td>\n",
       "      <td>0</td>\n",
       "      <td>0.000000</td>\n",
       "      <td>0.001000</td>\n",
       "    </tr>\n",
       "    <tr>\n",
       "      <th>68</th>\n",
       "      <td>1470061800</td>\n",
       "      <td>0.000000</td>\n",
       "      <td>0.000000</td>\n",
       "      <td>0.000000</td>\n",
       "      <td>0.000000</td>\n",
       "      <td>0.000000</td>\n",
       "      <td>0</td>\n",
       "      <td>-0.000184</td>\n",
       "      <td>0.000000</td>\n",
       "    </tr>\n",
       "    <tr>\n",
       "      <th>69</th>\n",
       "      <td>1470061860</td>\n",
       "      <td>-0.000787</td>\n",
       "      <td>-0.000787</td>\n",
       "      <td>0.000000</td>\n",
       "      <td>0.000000</td>\n",
       "      <td>-0.000184</td>\n",
       "      <td>0</td>\n",
       "      <td>0.000000</td>\n",
       "      <td>0.000000</td>\n",
       "    </tr>\n",
       "  </tbody>\n",
       "</table>\n",
       "</div>"
      ],
      "text/plain": [
       "     timestamp      open      high       low     close      vwap  position  \\\n",
       "60  1470061320  0.000000  0.000000  0.000000  0.000000  0.000000        -1   \n",
       "61  1470061380 -0.002721 -0.002721 -0.002721 -0.002721 -0.002721        -1   \n",
       "62  1470061440  0.000000  0.000000  0.000000  0.000000  0.000000         0   \n",
       "63  1470061500  0.000000  0.000000  0.000000  0.000000  0.000000         1   \n",
       "64  1470061560  0.002151  0.002151  0.000048  0.000048  0.000785         1   \n",
       "65  1470061620 -0.002098 -0.002098 -0.000787 -0.000787 -0.001339        -1   \n",
       "66  1470061680  0.000000  0.000000  0.000000  0.000000  0.000000        -1   \n",
       "67  1470061740  0.000000  0.000000  0.000000  0.000000  0.000000         0   \n",
       "68  1470061800  0.000000  0.000000  0.000000  0.000000  0.000000         0   \n",
       "69  1470061860 -0.000787 -0.000787  0.000000  0.000000 -0.000184         0   \n",
       "\n",
       "    vwap_returns  commission  \n",
       "60     -0.002721    0.002003  \n",
       "61      0.000000    0.000000  \n",
       "62      0.000000    0.000997  \n",
       "63      0.000785    0.002000  \n",
       "64     -0.001339    0.000000  \n",
       "65      0.000000    0.001999  \n",
       "66      0.000000    0.000000  \n",
       "67      0.000000    0.001000  \n",
       "68     -0.000184    0.000000  \n",
       "69      0.000000    0.000000  "
      ]
     },
     "execution_count": 42,
     "metadata": {},
     "output_type": "execute_result"
    }
   ],
   "source": [
    "env.df.iloc[env.start_idx:env.idx,:]"
   ]
  },
  {
   "cell_type": "code",
   "execution_count": 43,
   "metadata": {},
   "outputs": [
    {
     "data": {
      "text/plain": [
       "1.0021649640566603"
      ]
     },
     "execution_count": 43,
     "metadata": {},
     "output_type": "execute_result"
    }
   ],
   "source": [
    "(env.df.iloc[env.start_idx:env.idx,:]['position'] * env.df.iloc[env.start_idx:env.idx,:]['vwap_returns'] + 1).prod()"
   ]
  },
  {
   "cell_type": "markdown",
   "metadata": {},
   "source": [
    "## Agent"
   ]
  },
  {
   "cell_type": "markdown",
   "metadata": {},
   "source": [
    "A vanilla DQN agent consists of an experience replay buffer and two Q-networks. This is done so that we do not calculate the loss from the same network and thus destabilize the optimization process."
   ]
  },
  {
   "cell_type": "raw",
   "metadata": {},
   "source": [
    "#vanilla\n",
    "q_targets_next = self.qnetwork_target(next_states).detach().max(1)[0].unsqueeze(1)\n",
    "\n",
    "#compute loss\n",
    "q_targets = rewards + (gamma * q_targets_next) * (1 - dones)\n",
    "q_expected = self.qnetwork_local(states).gather(1, actions.long())\n",
    "\n",
    "#vanilla\n",
    "loss = self.vanilla_loss(q_expected, q_targets)"
   ]
  },
  {
   "cell_type": "markdown",
   "metadata": {},
   "source": [
    "We gradually copy the parameters from the local Q-network, which gets optimized more often, to the target Q-network which never gets optimized directly."
   ]
  },
  {
   "cell_type": "raw",
   "metadata": {},
   "source": [
    "def soft_update(self, local_model, target_model, tau):\n",
    "    \"\"\"Soft update model parameters.\n",
    "    θ_target = τ*θ_local + (1 - τ)*θ_target\n",
    "    \"\"\"\n",
    "    for target_param, local_param in zip(target_model.parameters(), local_model.parameters()):\n",
    "        target_param.data.copy_(tau*local_param.data + (1.0-tau)*target_param.data)"
   ]
  },
  {
   "cell_type": "markdown",
   "metadata": {},
   "source": [
    "### Replay Memory"
   ]
  },
  {
   "cell_type": "markdown",
   "metadata": {},
   "source": [
    "Replay memory stores transitions from environment namely `state`, `action`, `reward`, and `next_state` to be sampled at given batch size and learned by the Q-networks later. This is done to prevent the networks from learning temporally correlated transitions. Prioritized experience replay can be used to sample transitions with larger losses aka \"harder\" examples; however, this needs to be reweighted by sample importance to prevent overfitting. The replay memory has a limited capacity to encourage the agent to learn from more recent transitions."
   ]
  },
  {
   "cell_type": "code",
   "execution_count": 44,
   "metadata": {},
   "outputs": [
    {
     "name": "stderr",
     "output_type": "stream",
     "text": [
      "100%|██████████| 10/10 [00:00<00:00, 150.82it/s]\n"
     ]
    },
    {
     "data": {
      "text/plain": [
       "5"
      ]
     },
     "execution_count": 44,
     "metadata": {},
     "output_type": "execute_result"
    }
   ],
   "source": [
    "mem = ReplayMemory(10000)\n",
    "env = SingleStockMarket(bitstamp_df)\n",
    "\n",
    "state = env.reset()\n",
    "\n",
    "def get_action(state):\n",
    "    return(np.random.choice([0,1,2]))\n",
    "\n",
    "for i in trange(10):\n",
    "    action = get_action(state)\n",
    "    next_state,reward,done,info = env.step(action)\n",
    "    mem.add(state, action, reward, next_state, done)\n",
    "    state = next_state\n",
    "    \n",
    "len(mem.sample(10))"
   ]
  },
  {
   "cell_type": "markdown",
   "metadata": {},
   "source": [
    "When the agent performs the `step` method, it does two things:\n",
    "1. Push the current transition into replay memory.\n",
    "2. Sample a transition from the replay memory to optimize the local Q-network."
   ]
  },
  {
   "cell_type": "raw",
   "metadata": {},
   "source": [
    "def step(self, state, action, reward, next_state, done):\n",
    "    #add transition to replay memory\n",
    "    self.memory.add(state, action, reward, next_state, done)\n",
    "\n",
    "    # learn every self.t_step\n",
    "    self.t_step += 1\n",
    "    if self.t_step % self.update_interval == 0:\n",
    "        if len(self.memory) > self.bs:\n",
    "            #vanilla\n",
    "            transitions = self.memory.sample(self.bs)\n",
    "            self.learn(transitions, self.gamma)"
   ]
  },
  {
   "cell_type": "markdown",
   "metadata": {},
   "source": [
    "### Networks"
   ]
  },
  {
   "cell_type": "markdown",
   "metadata": {},
   "source": [
    "The Q-networks have a simple architecture of feature extraction by 1D convolution and a head with fully-connected layers. Such simpler networks tend to work better than for instance networks with batch normalization and dropout layers. Noisy linear layers can be substituted to encourage exploration."
   ]
  },
  {
   "cell_type": "code",
   "execution_count": 45,
   "metadata": {},
   "outputs": [
    {
     "data": {
      "text/plain": [
       "QNetwork(\n",
       "  (feature): Sequential(\n",
       "    (0): Conv1d(6, 12, kernel_size=(6,), stride=(2,))\n",
       "    (1): ReLU()\n",
       "    (2): Conv1d(12, 24, kernel_size=(6,), stride=(3,))\n",
       "    (3): ReLU()\n",
       "  )\n",
       "  (head): Sequential(\n",
       "    (0): Linear(in_features=192, out_features=64, bias=True)\n",
       "    (1): ReLU()\n",
       "    (2): Linear(in_features=64, out_features=3, bias=True)\n",
       "  )\n",
       ")"
      ]
     },
     "execution_count": 45,
     "metadata": {},
     "output_type": "execute_result"
    }
   ],
   "source": [
    "m = QNetwork()\n",
    "m"
   ]
  },
  {
   "cell_type": "code",
   "execution_count": 46,
   "metadata": {},
   "outputs": [
    {
     "data": {
      "text/plain": [
       "tensor([[-0.0443,  0.0314, -0.0630],\n",
       "        [-0.0520, -0.0065,  0.0047],\n",
       "        [-0.0208,  0.0607, -0.0403],\n",
       "        [-0.0478,  0.0251, -0.0719],\n",
       "        [-0.0119,  0.0340, -0.0151],\n",
       "        [-0.0677,  0.0412, -0.0878],\n",
       "        [-0.0181,  0.0711, -0.0655],\n",
       "        [-0.1015,  0.0031, -0.0392],\n",
       "        [-0.0620,  0.0204, -0.0367],\n",
       "        [-0.0085,  0.0464, -0.0131]], grad_fn=<ThAddmmBackward>)"
      ]
     },
     "execution_count": 46,
     "metadata": {},
     "output_type": "execute_result"
    }
   ],
   "source": [
    "x = mem.sample(10)[0]\n",
    "m(x)"
   ]
  },
  {
   "cell_type": "markdown",
   "metadata": {},
   "source": [
    "### Training"
   ]
  },
  {
   "cell_type": "markdown",
   "metadata": {},
   "source": [
    "Since this is a continuous task, we train for an arbitrary number of steps. To for the agent to explore more during the beginning of the training, we use epsilon-greedy policy, meaning we start out by having the agent explores almost completely then gradually decay the rate of exploration as time goes on."
   ]
  },
  {
   "cell_type": "code",
   "execution_count": 47,
   "metadata": {},
   "outputs": [],
   "source": [
    "env = SingleStockMarket(bitstamp_df)\n",
    "mem = ReplayMemory(10000)\n",
    "a = VanillaQAgent(replay_memory = mem)"
   ]
  },
  {
   "cell_type": "code",
   "execution_count": 55,
   "metadata": {},
   "outputs": [
    {
     "data": {
      "text/plain": [
       "[<matplotlib.lines.Line2D at 0x7f4c6c059400>]"
      ]
     },
     "execution_count": 55,
     "metadata": {},
     "output_type": "execute_result"
    },
    {
     "data": {
      "image/png": "[encoded data removed]",
      "text/plain": [
       "<Figure size 432x288 with 1 Axes>"
      ]
     },
     "metadata": {},
     "output_type": "display_data"
    }
   ],
   "source": [
    "eps = []\n",
    "for i in range(5000):\n",
    "    eps.append(a.get_eps(i))\n",
    "plt.plot(eps)"
   ]
  },
  {
   "cell_type": "code",
   "execution_count": 49,
   "metadata": {},
   "outputs": [
    {
     "name": "stderr",
     "output_type": "stream",
     "text": [
      "100%|██████████| 10000/10000 [01:38<00:00, 101.29it/s]\n"
     ]
    }
   ],
   "source": [
    "state = env.reset()\n",
    "for i in trange(10000):\n",
    "    #select action\n",
    "    action = a.act(state,i)  \n",
    "\n",
    "    #step\n",
    "    next_state,reward,done,info = env.step(action)                \n",
    "    a.step(state,action,reward,next_state,done)\n",
    "\n",
    "    state = next_state                          "
   ]
  },
  {
   "cell_type": "code",
   "execution_count": 62,
   "metadata": {},
   "outputs": [
    {
     "data": {
      "text/plain": [
       "10060"
      ]
     },
     "execution_count": 62,
     "metadata": {},
     "output_type": "execute_result"
    }
   ],
   "source": [
    "# model_name = f'{DATA_PATH}models/vanilla_q.pth'\n",
    "# df_name = f'{DATA_PATH}models/vanilla_q.csv'\n",
    "# # a.save_agent(model_name,df_name)\n",
    "# a.load_agent(model_name,df_name)\n",
    "env.idx"
   ]
  },
  {
   "cell_type": "markdown",
   "metadata": {},
   "source": [
    "## Diagnostics"
   ]
  },
  {
   "cell_type": "markdown",
   "metadata": {},
   "source": [
    "Reinforcement learning, especially Q-learning, is notoriously difficult to train and perhaps even more difficult to debug. Here are some guidelines you can check when things do not go as planned."
   ]
  },
  {
   "cell_type": "markdown",
   "metadata": {},
   "source": [
    "## Benchmarking"
   ]
  },
  {
   "cell_type": "markdown",
   "metadata": {},
   "source": [
    "Always have a decent benchmark using rule-based or supervised models. Here we use `buy and hold` and a 10-period simple moving average momentum strategy as benchmark. If your intended metric is not optimized but some other related metrics are (for instance, sharpe ratios not optimized but returns are), you may want to recreate your rewards."
   ]
  },
  {
   "cell_type": "code",
   "execution_count": 108,
   "metadata": {},
   "outputs": [
    {
     "name": "stderr",
     "output_type": "stream",
     "text": [
      "100%|██████████| 1900/1900 [02:48<00:00, 11.24it/s]\n"
     ]
    }
   ],
   "source": [
    "model_sharpes = []\n",
    "buy_sharpes = []\n",
    "mom_sharpes = []\n",
    "model_returns = []\n",
    "buy_returns = []\n",
    "mom_returns = []\n",
    "\n",
    "for i in trange(100,2000):\n",
    "    env.idx = i\n",
    "    model_sharpes.append(model_eval(env)[0])\n",
    "    buy_sharpes.append(buy_eval(env)[0])\n",
    "    mom_sharpes.append(momentum_eval(env)[0])\n",
    "    \n",
    "    model_returns.append(model_eval(env)[1])\n",
    "    buy_returns.append(buy_eval(env)[1])\n",
    "    mom_returns.append(momentum_eval(env)[1])"
   ]
  },
  {
   "cell_type": "code",
   "execution_count": 109,
   "metadata": {},
   "outputs": [
    {
     "data": {
      "image/png": "[encoded data removed]",
      "text/plain": [
       "<Figure size 432x288 with 1 Axes>"
      ]
     },
     "metadata": {},
     "output_type": "display_data"
    }
   ],
   "source": [
    "plt.plot(model_sharpes)\n",
    "plt.plot(buy_sharpes)\n",
    "plt.plot(mom_sharpes)\n",
    "plt.show()"
   ]
  },
  {
   "cell_type": "code",
   "execution_count": 110,
   "metadata": {},
   "outputs": [
    {
     "data": {
      "image/png": "[encoded data removed]",
      "text/plain": [
       "<Figure size 432x288 with 1 Axes>"
      ]
     },
     "metadata": {},
     "output_type": "display_data"
    }
   ],
   "source": [
    "plt.plot(model_returns)\n",
    "plt.plot(buy_returns)\n",
    "plt.plot(mom_returns)\n",
    "plt.show()"
   ]
  },
  {
   "cell_type": "markdown",
   "metadata": {},
   "source": [
    "### Q-Networks"
   ]
  },
  {
   "cell_type": "markdown",
   "metadata": {},
   "source": [
    "Plot the losses of the local network. The losses should quickly drop and stabilizes. On the other hand, if it stabilizes too fast, you might want to increase exploration with slower epsilon decay or a noisy linear layer."
   ]
  },
  {
   "cell_type": "code",
   "execution_count": 51,
   "metadata": {},
   "outputs": [
    {
     "data": {
      "text/plain": [
       "[<matplotlib.lines.Line2D at 0x7f4c7c012a58>]"
      ]
     },
     "execution_count": 51,
     "metadata": {},
     "output_type": "execute_result"
    },
    {
     "data": {
      "image/png": "[encoded data removed]",
      "text/plain": [
       "<Figure size 432x288 with 1 Axes>"
      ]
     },
     "metadata": {},
     "output_type": "display_data"
    }
   ],
   "source": [
    "plt.plot(a.losses)"
   ]
  },
  {
   "cell_type": "markdown",
   "metadata": {},
   "source": [
    "### Feature Extractor"
   ]
  },
  {
   "cell_type": "markdown",
   "metadata": {},
   "source": [
    "Visualize the convolution layers of the local Q-network to see if the weights are actually capturing features that it should. If not, you might need to tune your feature extraction layers."
   ]
  },
  {
   "cell_type": "code",
   "execution_count": 147,
   "metadata": {},
   "outputs": [
    {
     "data": {
      "image/png": "[encoded data removed]",
      "text/plain": [
       "<Figure size 432x288 with 1 Axes>"
      ]
     },
     "metadata": {},
     "output_type": "display_data"
    },
    {
     "data": {
      "image/png": "[encoded data removed]",
      "text/plain": [
       "<Figure size 432x288 with 1 Axes>"
      ]
     },
     "metadata": {},
     "output_type": "display_data"
    },
    {
     "data": {
      "image/png": "[encoded data removed]",
      "text/plain": [
       "<Figure size 432x288 with 1 Axes>"
      ]
     },
     "metadata": {},
     "output_type": "display_data"
    },
    {
     "data": {
      "image/png": "[encoded data removed]",
      "text/plain": [
       "<Figure size 432x288 with 1 Axes>"
      ]
     },
     "metadata": {},
     "output_type": "display_data"
    },
    {
     "data": {
      "image/png": "[encoded data removed]",
      "text/plain": [
       "<Figure size 432x288 with 1 Axes>"
      ]
     },
     "metadata": {},
     "output_type": "display_data"
    },
    {
     "data": {
      "image/png": "[encoded data removed]",
      "text/plain": [
       "<Figure size 432x288 with 1 Axes>"
      ]
     },
     "metadata": {},
     "output_type": "display_data"
    },
    {
     "data": {
      "image/png": "[encoded data removed]",
      "text/plain": [
       "<Figure size 432x288 with 1 Axes>"
      ]
     },
     "metadata": {},
     "output_type": "display_data"
    },
    {
     "data": {
      "image/png": "[encoded data removed]",
      "text/plain": [
       "<Figure size 432x288 with 1 Axes>"
      ]
     },
     "metadata": {},
     "output_type": "display_data"
    },
    {
     "data": {
      "image/png": "[encoded data removed]",
      "text/plain": [
       "<Figure size 432x288 with 1 Axes>"
      ]
     },
     "metadata": {},
     "output_type": "display_data"
    },
    {
     "data": {
      "image/png": "[encoded data removed]",
      "text/plain": [
       "<Figure size 432x288 with 1 Axes>"
      ]
     },
     "metadata": {},
     "output_type": "display_data"
    },
    {
     "data": {
      "image/png": "[encoded data removed]",
      "text/plain": [
       "<Figure size 432x288 with 1 Axes>"
      ]
     },
     "metadata": {},
     "output_type": "display_data"
    },
    {
     "data": {
      "image/png": "[encoded data removed]",
      "text/plain": [
       "<Figure size 432x288 with 1 Axes>"
      ]
     },
     "metadata": {},
     "output_type": "display_data"
    }
   ],
   "source": [
    "for i in range(12):\n",
    "    x = np.array(a.qnetwork_local.state_dict()['feature.0.weight'][i,:,:].data) #weight idx, kernel size, state dimension\n",
    "    plt.imshow(x, cmap='hot', interpolation='nearest')\n",
    "    plt.show()"
   ]
  },
  {
   "cell_type": "markdown",
   "metadata": {},
   "source": [
    "### Agent's Actions"
   ]
  },
  {
   "cell_type": "markdown",
   "metadata": {},
   "source": [
    "Check if the actions chosen make sense intuitively. For instance, our time period is overall bear market but it has a short sharp drop in the beginning and gradual recovery. The positions it placed should reflect this trend. Otherwise, there is something wrong with the way your agent handles the action selection or learning process."
   ]
  },
  {
   "cell_type": "code",
   "execution_count": 11,
   "metadata": {},
   "outputs": [
    {
     "data": {
      "text/plain": [
       "[<matplotlib.lines.Line2D at 0x7fce98731b00>]"
      ]
     },
     "execution_count": 11,
     "metadata": {},
     "output_type": "execute_result"
    },
    {
     "data": {
      "image/png": "[encoded data removed]",
      "text/plain": [
       "<Figure size 432x288 with 1 Axes>"
      ]
     },
     "metadata": {},
     "output_type": "display_data"
    }
   ],
   "source": [
    "plt.plot(bitstamp_original.iloc[:env.idx,:]['vwap'])"
   ]
  },
  {
   "cell_type": "code",
   "execution_count": 56,
   "metadata": {},
   "outputs": [
    {
     "data": {
      "text/plain": [
       "Counter({1: 3017, -1: 1364, 0: 5679})"
      ]
     },
     "execution_count": 56,
     "metadata": {},
     "output_type": "execute_result"
    }
   ],
   "source": [
    "Counter(env.df.iloc[:env.idx,:]['position'])"
   ]
  },
  {
   "cell_type": "code",
   "execution_count": null,
   "metadata": {},
   "outputs": [],
   "source": []
  }
 ],
 "metadata": {
  "kernelspec": {
   "display_name": "Python 3",
   "language": "python",
   "name": "python3"
  },
  "language_info": {
   "codemirror_mode": {
    "name": "ipython",
    "version": 3
   },
   "file_extension": ".py",
   "mimetype": "text/x-python",
   "name": "python",
   "nbconvert_exporter": "python",
   "pygments_lexer": "ipython3",
   "version": "3.6.6"
  }
 },
 "nbformat": 4,
 "nbformat_minor": 2
}
